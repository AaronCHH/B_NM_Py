{
 "cells": [
  {
   "cell_type": "markdown",
   "metadata": {},
   "source": [
    "# Ch01 The First Few Steps"
   ]
  },
  {
   "cell_type": "markdown",
   "metadata": {},
   "source": [
    "# 1 The First Few Steps"
   ]
  },
  {
   "cell_type": "markdown",
   "metadata": {},
   "source": [
    "## 1.1 What Is a Program? And What Is Programming?"
   ]
  },
  {
   "cell_type": "markdown",
   "metadata": {},
   "source": [
    "## 1.2 A Python Program with Variables"
   ]
  },
  {
   "cell_type": "markdown",
   "metadata": {},
   "source": [
    "### 1.2.1 The Program"
   ]
  },
  {
   "cell_type": "code",
   "execution_count": null,
   "metadata": {
    "collapsed": true
   },
   "outputs": [],
   "source": [
    "# %load py/ball.py\n",
    "# Program for computing the height of a ball in vertical motion\n",
    "\n",
    "v0 = 5             # Initial velocity\n",
    "g = 9.81           # Acceleration of gravity\n",
    "t = 0.6            # Time\n",
    "\n",
    "y = v0*t - 0.5*g*t**2        # Vertical position\n",
    "\n",
    "print(y)"
   ]
  },
  {
   "cell_type": "code",
   "execution_count": 4,
   "metadata": {
    "collapsed": false
   },
   "outputs": [
    {
     "name": "stdout",
     "output_type": "stream",
     "text": [
      "1.2342\n"
     ]
    }
   ],
   "source": [
    "%run py/ball.py"
   ]
  },
  {
   "cell_type": "markdown",
   "metadata": {},
   "source": [
    "### 1.2.2 Dissection of the Program"
   ]
  },
  {
   "cell_type": "markdown",
   "metadata": {},
   "source": [
    "### 1.2.3 Why Not Just Use a Pocket Calculator?"
   ]
  },
  {
   "cell_type": "markdown",
   "metadata": {},
   "source": [
    "### 1.2.4 Why You Must Use a Text Editor to Write Programs"
   ]
  },
  {
   "cell_type": "markdown",
   "metadata": {},
   "source": [
    "### 1.2.5 Installation of Python"
   ]
  },
  {
   "cell_type": "markdown",
   "metadata": {},
   "source": [
    "### 1.2.6 Write and Run Your First Program"
   ]
  },
  {
   "cell_type": "markdown",
   "metadata": {},
   "source": [
    "## 1.3 A Python Program with a Library Function"
   ]
  },
  {
   "cell_type": "code",
   "execution_count": null,
   "metadata": {
    "collapsed": true
   },
   "outputs": [],
   "source": [
    "# %load py/ball_angle_first_try.py\n",
    "from math import *\n",
    "\n",
    "x = 10             # Horizontal position\n",
    "y = 10             # Vertical position\n",
    "\n",
    "angle = atan(y/x)        \n",
    "\n",
    "print((angle/pi)*180)"
   ]
  },
  {
   "cell_type": "code",
   "execution_count": 8,
   "metadata": {
    "collapsed": false
   },
   "outputs": [
    {
     "name": "stdout",
     "output_type": "stream",
     "text": [
      "45.0\n"
     ]
    }
   ],
   "source": [
    "%run py/ball_angle_first_try.py"
   ]
  },
  {
   "cell_type": "markdown",
   "metadata": {},
   "source": [
    "## 1.4 A Python Program with Vectorization and Plotting"
   ]
  },
  {
   "cell_type": "code",
   "execution_count": null,
   "metadata": {
    "collapsed": true
   },
   "outputs": [],
   "source": [
    "# %load py/ball_plot.py\n",
    "from numpy import linspace\n",
    "\n",
    "v0 = 5\n",
    "g = 9.81\n",
    "t = linspace(0, 1, 1001)\n",
    "\n",
    "y = v0*t - 0.5*g*t**2\n",
    "\n",
    "import matplotlib.pyplot as plt\n",
    "plt.plot(t, y)\n",
    "plt.xlabel('t (s)')\n",
    "plt.ylabel('y (m)')\n",
    "plt.show()\n"
   ]
  },
  {
   "cell_type": "code",
   "execution_count": 12,
   "metadata": {
    "collapsed": false
   },
   "outputs": [
    {
     "data": {
      "image/png": "[encoded data removed]",
      "text/plain": [
       "<matplotlib.figure.Figure at 0xf86670cf98>"
      ]
     },
     "metadata": {},
     "output_type": "display_data"
    }
   ],
   "source": [
    "%run py/ball_plot.py"
   ]
  },
  {
   "cell_type": "markdown",
   "metadata": {},
   "source": [
    "## 1.5 More Basic Concepts"
   ]
  },
  {
   "cell_type": "markdown",
   "metadata": {},
   "source": [
    "### 1.5.1 Using Python Interactively"
   ]
  },
  {
   "cell_type": "markdown",
   "metadata": {},
   "source": [
    "### 1.5.2 Arithmetics, Parentheses and Rounding Errors"
   ]
  },
  {
   "cell_type": "markdown",
   "metadata": {},
   "source": [
    "### 1.5.3 Variables and Objects"
   ]
  },
  {
   "cell_type": "markdown",
   "metadata": {},
   "source": [
    "### 1.5.4 Integer Division"
   ]
  },
  {
   "cell_type": "markdown",
   "metadata": {},
   "source": [
    "### 1.5.5 Formatting Text and Numbers"
   ]
  },
  {
   "cell_type": "code",
   "execution_count": null,
   "metadata": {
    "collapsed": true
   },
   "outputs": [],
   "source": [
    "# %load py/formatted_print.py\n",
    "real = 12.89643\n",
    "integer = 42\n",
    "string = 'some message'\n",
    "print('real=%.3f, integer=%d, string=%s' % (real, integer, string))\n",
    "print('real=%9.3e, integer=%5d, string=%s' % (real, integer, string))"
   ]
  },
  {
   "cell_type": "code",
   "execution_count": 15,
   "metadata": {
    "collapsed": false
   },
   "outputs": [
    {
     "name": "stdout",
     "output_type": "stream",
     "text": [
      "real=12.896, integer=42, string=some message\n",
      "real=1.290e+01, integer=   42, string=some message\n"
     ]
    }
   ],
   "source": [
    "%run py/formatted_print.py"
   ]
  },
  {
   "cell_type": "markdown",
   "metadata": {},
   "source": [
    "### 1.5.6 Arrays"
   ]
  },
  {
   "cell_type": "markdown",
   "metadata": {},
   "source": [
    "### 1.5.7 Plotting"
   ]
  },
  {
   "cell_type": "code",
   "execution_count": null,
   "metadata": {
    "collapsed": true
   },
   "outputs": [],
   "source": [
    "# %load py/plot_heights.py\n",
    "from numpy import zeros\n",
    "import matplotlib.pyplot as plt\n",
    "\n",
    "h = zeros(4)\n",
    "h[0] = 1.60; h[1] = 1.85; h[2] = 1.75; h[3] = 1.80\n",
    "H = zeros(4)\n",
    "H[0] = 0.50; H[1] = 0.70; H[2] = 1.90; H[3] = 1.75\n",
    "\n",
    "family_member_no = zeros(4)\n",
    "family_member_no[0] = 0; family_member_no[1] = 1\n",
    "family_member_no[2] = 2; family_member_no[3] = 3\n",
    "\n",
    "plt.plot(family_member_no, h, family_member_no, H)\n",
    "plt.xlabel('Family member number')\n",
    "plt.ylabel('Height (m)')\n",
    "plt.show()\n"
   ]
  },
  {
   "cell_type": "code",
   "execution_count": 17,
   "metadata": {
    "collapsed": false,
    "scrolled": true
   },
   "outputs": [
    {
     "data": {
      "image/png": "[encoded data removed]",
      "text/plain": [
       "<matplotlib.figure.Figure at 0xf8698db278>"
      ]
     },
     "metadata": {},
     "output_type": "display_data"
    }
   ],
   "source": [
    "%run py/plot_heights.py"
   ]
  },
  {
   "cell_type": "code",
   "execution_count": null,
   "metadata": {
    "collapsed": true
   },
   "outputs": [],
   "source": [
    "# %load py/matrix_vector_product.py\n",
    "from numpy import zeros, mat, transpose\n",
    "\n",
    "x = zeros(2)\n",
    "x = mat(x)\n",
    "x = transpose(x)\n",
    "x[0] = 3;   x[1] = 2   # Pick some values\n",
    "\n",
    "A = zeros((2,2))\n",
    "A = mat(A)\n",
    "A[0,0] = 1;  A[0,1] = 0\n",
    "A[1,0] = 0;  A[1,1] = 1\n",
    "\n",
    "# The following gives y = x since A = I, the identity matrix\n",
    "y = A*x\n",
    "print(y)\n"
   ]
  },
  {
   "cell_type": "code",
   "execution_count": 20,
   "metadata": {
    "collapsed": false,
    "scrolled": true
   },
   "outputs": [
    {
     "name": "stdout",
     "output_type": "stream",
     "text": [
      "[[ 3.]\n",
      " [ 2.]]\n"
     ]
    }
   ],
   "source": [
    "%run py/matrix_vector_product.py"
   ]
  },
  {
   "cell_type": "markdown",
   "metadata": {},
   "source": [
    "### 1.5.8 Error Messages and Warnings"
   ]
  },
  {
   "cell_type": "markdown",
   "metadata": {},
   "source": [
    "### 1.5.9 Input Data"
   ]
  },
  {
   "cell_type": "markdown",
   "metadata": {},
   "source": [
    "### 1.5.10 Symbolic Computations"
   ]
  },
  {
   "cell_type": "code",
   "execution_count": null,
   "metadata": {
    "collapsed": false
   },
   "outputs": [],
   "source": [
    "# %load py/example_symbolic.py\n",
    "from sympy import *\n",
    "\n",
    "x = Symbol('x')\n",
    "y = Symbol('y')\n",
    "\n",
    "print(2*x + 3*x - y)                # Algebraic computation\n",
    "print(diff(x**2, x))                # Differentiates x**2 wrt. x\n",
    "print(integrate(cos(x), x))         # Integrates cos(x) wrt. x\n",
    "print(simplify((x**2 + x**3)/x**2)) # Simplifies expression\n",
    "print(limit(sin(x)/x, x, 0))        # Finds limit of sin(x)/x as x->0\n",
    "print(solve(5*x - 15, x))           # Solves 5*x = 15"
   ]
  },
  {
   "cell_type": "code",
   "execution_count": 25,
   "metadata": {
    "collapsed": false
   },
   "outputs": [
    {
     "name": "stdout",
     "output_type": "stream",
     "text": [
      "5*x - y\n",
      "2*x\n",
      "sin(x)\n",
      "x + 1\n",
      "1\n",
      "[3]\n"
     ]
    }
   ],
   "source": [
    "%run py/example_symbolic.py"
   ]
  },
  {
   "cell_type": "markdown",
   "metadata": {},
   "source": [
    "### 1.5.11 Concluding Remarks"
   ]
  },
  {
   "cell_type": "markdown",
   "metadata": {},
   "source": [
    "## 1.6 Exercises"
   ]
  },
  {
   "cell_type": "markdown",
   "metadata": {},
   "source": [
    "* Exercise 1.2: Volume of acube  \n",
    "* Exercise 1.3: Area and circumference of acircle  \n",
    "* Exercise 1.4: Volumes of three cubes  \n",
    "* Exercise 1.5: Average of integers  \n",
    "* Exercise 1.6: Interactive computing of volume and area  \n",
    "* Exercise 1.7 Peculiar results from division  \n",
    "* Exercise 1.8 Update variable at command prompt  \n",
    "* Exercise 1.9 Formatted print to screen  \n",
    "* Exercise 1.10 Python documentation and random numbers  "
   ]
  },
  {
   "cell_type": "code",
   "execution_count": null,
   "metadata": {
    "collapsed": true
   },
   "outputs": [],
   "source": []
  }
 ],
 "metadata": {
  "anaconda-cloud": {},
  "kernelspec": {
   "display_name": "Python 2",
   "language": "python",
   "name": "python2"
  },
  "language_info": {
   "codemirror_mode": {
    "name": "ipython",
    "version": 2
   },
   "file_extension": ".py",
   "mimetype": "text/x-python",
   "name": "python",
   "nbconvert_exporter": "python",
   "pygments_lexer": "ipython2",
   "version": "2.7.13"
  }
 },
 "nbformat": 4,
 "nbformat_minor": 1
}
