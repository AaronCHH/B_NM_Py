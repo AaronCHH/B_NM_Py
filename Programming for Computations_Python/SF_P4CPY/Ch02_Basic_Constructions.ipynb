{
 "cells": [
  {
   "cell_type": "markdown",
   "metadata": {},
   "source": [
    "# Ch02 Basic Constructions"
   ]
  },
  {
   "cell_type": "markdown",
   "metadata": {},
   "source": [
    "## 2.1 If Tests, Colon and Indentation"
   ]
  },
  {
   "cell_type": "markdown",
   "metadata": {},
   "source": [
    "## 2.2 Functions"
   ]
  },
  {
   "cell_type": "code",
   "execution_count": null,
   "metadata": {
    "collapsed": true
   },
   "outputs": [],
   "source": [
    "# %load py/ball_function.py\n",
    "def y(t):\n",
    "    v0 = 5                    # Initial velocity\n",
    "    g = 9.81                  # Acceleration of gravity\n",
    "    return v0*t - 0.5*g*t**2\n",
    "\n",
    "time = 0.6       # Just pick one point in time\n",
    "print(y(time))\n",
    "time = 0.9       # Pick another point in time\n",
    "print(y(time))\n"
   ]
  },
  {
   "cell_type": "code",
   "execution_count": 3,
   "metadata": {
    "collapsed": false
   },
   "outputs": [
    {
     "name": "stdout",
     "output_type": "stream",
     "text": [
      "1.2342\n",
      "0.5269499999999994\n"
     ]
    }
   ],
   "source": [
    "%run py/ball_function.py"
   ]
  },
  {
   "cell_type": "code",
   "execution_count": null,
   "metadata": {
    "collapsed": true
   },
   "outputs": [],
   "source": [
    "# %load py/ball_position_xy.py\n",
    "def y(v0y, t):\n",
    "    g = 9.81                  # Acceleration of gravity\n",
    "    return v0y*t - 0.5*g*t**2\n",
    "\n",
    "def x(v0x, t):\n",
    "    return v0x*t\n",
    "\n",
    "initial_velocity_x = 2.0\n",
    "initial_velocity_y = 5.0\n",
    "\n",
    "time = 0.6       # Just pick one point in time\n",
    "print(x(initial_velocity_x, time), y(initial_velocity_y, time))\n",
    "\n",
    "time = 0.9       # ... Pick another point in time\n",
    "print(x(initial_velocity_x, time), y(initial_velocity_y, time))"
   ]
  },
  {
   "cell_type": "code",
   "execution_count": 6,
   "metadata": {
    "collapsed": false
   },
   "outputs": [
    {
     "name": "stdout",
     "output_type": "stream",
     "text": [
      "1.2 1.2342\n",
      "1.8 0.5269499999999994\n"
     ]
    }
   ],
   "source": [
    "%run py/ball_position_xy.py"
   ]
  },
  {
   "cell_type": "code",
   "execution_count": null,
   "metadata": {
    "collapsed": true
   },
   "outputs": [],
   "source": [
    "# %load py/function_as_argument.py\n",
    "def sum_xy(x, y):\n",
    "    return x + y\n",
    "\n",
    "def prod_xy(x, y):\n",
    "    return x*y\n",
    "\n",
    "def treat_xy(f, x, y):\n",
    "    return f(x, y)\n",
    "\n",
    "x = 2;  y = 3\n",
    "\n",
    "print(treat_xy(sum_xy, x, y))\n",
    "print(treat_xy(prod_xy, x, y))"
   ]
  },
  {
   "cell_type": "code",
   "execution_count": 9,
   "metadata": {
    "collapsed": false
   },
   "outputs": [
    {
     "name": "stdout",
     "output_type": "stream",
     "text": [
      "5\n",
      "6\n"
     ]
    }
   ],
   "source": [
    "%run py/function_as_argument.py"
   ]
  },
  {
   "cell_type": "markdown",
   "metadata": {},
   "source": [
    "## 2.3 For Loops"
   ]
  },
  {
   "cell_type": "code",
   "execution_count": null,
   "metadata": {
    "collapsed": true
   },
   "outputs": [],
   "source": [
    "# %load py/ball_max_height.py\n",
    "import matplotlib.pyplot as plt\n",
    "import numpy as np\n",
    "\n",
    "v0 = 5                    # Initial velocity\n",
    "g = 9.81                  # Acceleration of gravity\n",
    "t = np.linspace(0, 1, 1000)  # 1000 points in time interval\n",
    "y = v0*t - 0.5*g*t**2     # Generate all heights\n",
    "\n",
    "# At this point, the array y with all the heights is ready.\n",
    "# Now we need to find the largest value within y.\n",
    "\n",
    "largest_height = y[0]          # Starting value for search\n",
    "for i in range(1, 1000):\n",
    "    if y[i] > largest_height:\n",
    "        largest_height = y[i]\n",
    "\n",
    "print(\"The largest height achieved was %f m\" % (largest_height))\n",
    "\n",
    "# We might also like to plot the path again just to compare\n",
    "plt.plot(t,y)\n",
    "plt.xlabel('Time (s)')\n",
    "plt.ylabel('Height (m)')\n"
   ]
  },
  {
   "cell_type": "code",
   "execution_count": 14,
   "metadata": {
    "collapsed": false
   },
   "outputs": [
    {
     "name": "stdout",
     "output_type": "stream",
     "text": [
      "The largest height achieved was 1.274210 m\n"
     ]
    }
   ],
   "source": [
    "%run py/ball_max_height.py"
   ]
  },
  {
   "cell_type": "markdown",
   "metadata": {},
   "source": [
    "## 2.4 While Loops"
   ]
  },
  {
   "cell_type": "code",
   "execution_count": null,
   "metadata": {
    "collapsed": true
   },
   "outputs": [],
   "source": [
    "# %load py/ball_time.py\n",
    "from numpy import linspace\n",
    "\n",
    "v0 = 4.5                  # Initial velocity\n",
    "g = 9.81                  # Acceleration of gravity\n",
    "t = linspace(0, 1, 1000)  # 1000 points in time interval\n",
    "y = v0*t - 0.5*g*t**2     # Generate all heights\n",
    "\n",
    "# Find where the ball hits y=0\n",
    "i = 0\n",
    "while y[i] >= 0:\n",
    "    i += 1\n",
    "\n",
    "# Now, y[i-1]>0 and y[i]<0 so let's take the middle point\n",
    "# in time as the approximation for when the ball hits h=0\n",
    "print(\"y=0 at\", 0.5*(t[i-1] + t[i]))\n",
    "\n",
    "# We plot the path again just for comparison\n",
    "import matplotlib.pyplot as plt\n",
    "plt.plot(t, y)\n",
    "plt.plot(t, 0*t, 'g--')\n",
    "plt.xlabel('Time (s)')\n",
    "plt.ylabel('Height (m)')\n",
    "plt.show()\n"
   ]
  },
  {
   "cell_type": "code",
   "execution_count": 17,
   "metadata": {
    "collapsed": false
   },
   "outputs": [
    {
     "name": "stdout",
     "output_type": "stream",
     "text": [
      "y=0 at 0.917417417417\n"
     ]
    },
    {
     "data": {
      "image/png": "[encoded data removed]",
      "text/plain": [
       "<matplotlib.figure.Figure at 0x5f71f16d30>"
      ]
     },
     "metadata": {},
     "output_type": "display_data"
    }
   ],
   "source": [
    "%run py/ball_time.py"
   ]
  },
  {
   "cell_type": "markdown",
   "metadata": {},
   "source": [
    "## 2.5 Lists and Tuples – Alternatives to Arrays"
   ]
  },
  {
   "cell_type": "code",
   "execution_count": 23,
   "metadata": {
    "collapsed": true
   },
   "outputs": [],
   "source": [
    "x = ['hello' , 4, 3.14, 6]"
   ]
  },
  {
   "cell_type": "code",
   "execution_count": 24,
   "metadata": {
    "collapsed": true
   },
   "outputs": [],
   "source": [
    "x = ['hello' , 4, 3.14, 6]\n",
    "x.insert(0, -2) # x then becomes [-2, ’hello’, 4, 3.14, 6]\n",
    "del x[3]        # x then becomes [-2, ’hello’, 4, 6]\n",
    "x.append(3.14)  # x then becomes [-2, ’hello’, 4, 6, 3.14]"
   ]
  },
  {
   "cell_type": "code",
   "execution_count": 25,
   "metadata": {
    "collapsed": false,
    "scrolled": true
   },
   "outputs": [
    {
     "name": "stdout",
     "output_type": "stream",
     "text": [
      "x element:  hello\n",
      "x element:  4\n",
      "x element:  3.14\n",
      "x element:  6\n",
      "This was all the elements in the list x\n"
     ]
    }
   ],
   "source": [
    "x = ['hello' , 4, 3.14, 6]\n",
    "for e in x:\n",
    "    print('x element: ' , e)\n",
    "print('This was all the elements in the list x')"
   ]
  },
  {
   "cell_type": "code",
   "execution_count": 28,
   "metadata": {
    "collapsed": false
   },
   "outputs": [
    {
     "data": {
      "text/plain": [
       "[1, 2, 3, 4]"
      ]
     },
     "execution_count": 28,
     "metadata": {},
     "output_type": "execute_result"
    }
   ],
   "source": [
    "List_1 = [1, 2, 3, 4]\n",
    "List_1"
   ]
  },
  {
   "cell_type": "code",
   "execution_count": 29,
   "metadata": {
    "collapsed": false
   },
   "outputs": [
    {
     "data": {
      "text/plain": [
       "[10, 20, 30, 40]"
      ]
     },
     "execution_count": 29,
     "metadata": {},
     "output_type": "execute_result"
    }
   ],
   "source": [
    "List_2 = [e*10 for e in List_1]\n",
    "List_2"
   ]
  },
  {
   "cell_type": "code",
   "execution_count": null,
   "metadata": {
    "collapsed": false,
    "scrolled": true
   },
   "outputs": [],
   "source": [
    "List_2 = [E(e) for e in List_1]\n",
    "List_2"
   ]
  },
  {
   "cell_type": "code",
   "execution_count": 33,
   "metadata": {
    "collapsed": false
   },
   "outputs": [
    {
     "name": "stdout",
     "output_type": "stream",
     "text": [
      "x element:  hello\n",
      "x element:  4\n",
      "x element:  3.14\n",
      "x element:  6\n",
      "This was all the elements in the tuple x\n"
     ]
    }
   ],
   "source": [
    "x = ('hello' , 4, 3.14, 6)\n",
    "for e in x:\n",
    "    print('x element: ' , e)\n",
    "print('This was all the elements in the tuple x')"
   ]
  },
  {
   "cell_type": "markdown",
   "metadata": {},
   "source": [
    "## 2.6 Reading from and Writing to Files"
   ]
  },
  {
   "cell_type": "code",
   "execution_count": null,
   "metadata": {
    "collapsed": true
   },
   "outputs": [],
   "source": [
    "# %load py/file_handling.py\n",
    "filename = 'tmp.dat'\n",
    "infile = open(filename, 'r')  # Open file for reading\n",
    "line = infile.readline()      # Read first line\n",
    "# Read x and y coordinates from the file and store in lists\n",
    "x = []\n",
    "y = []\n",
    "for line in infile:\n",
    "    words = line.split()      # Split line into words\n",
    "    x.append(float(words[0]))\n",
    "    y.append(float(words[1]))\n",
    "infile.close()\n",
    "\n",
    "# Transform y coordinates\n",
    "from math import log\n",
    "\n",
    "def f(y):\n",
    "    return log(y)\n",
    "\n",
    "for i in range(len(y)):\n",
    "    y[i] = f(y[i])\n",
    "\n",
    "# Write out x and y to a two-column file\n",
    "filename = 'tmp_out.dat'\n",
    "outfile = open(filename, 'w')  # Open file for writing\n",
    "outfile.write('# x and y coordinates\\n')\n",
    "for xi, yi in zip(x, y):\n",
    "    outfile.write('%10.5f %10.5f\\n' % (xi, yi))\n",
    "outfile.close()\n",
    "\n"
   ]
  },
  {
   "cell_type": "code",
   "execution_count": null,
   "metadata": {
    "collapsed": false,
    "scrolled": true
   },
   "outputs": [],
   "source": [
    "%run py/file_handling.py"
   ]
  },
  {
   "cell_type": "code",
   "execution_count": null,
   "metadata": {
    "collapsed": true
   },
   "outputs": [],
   "source": [
    "# %load py/file_handling_numpy.py\n",
    "filename = 'tmp.dat'\n",
    "import numpy\n",
    "data = numpy.loadtxt(filename, comments='#')\n",
    "x = data[:,0]\n",
    "y = data[:,1]\n",
    "data[:,1] = numpy.log(y)  # insert transformed y back in array\n",
    "filename = 'tmp_out.dat'\n",
    "filename = 'tmp_out.dat'\n",
    "outfile = open(filename, 'w')  # open file for writing\n",
    "outfile.write('# x and y coordinates\\n')\n",
    "numpy.savetxt(outfile, data, fmt='%10.5f')\n",
    "\n"
   ]
  },
  {
   "cell_type": "code",
   "execution_count": null,
   "metadata": {
    "collapsed": false,
    "scrolled": true
   },
   "outputs": [],
   "source": [
    "%run py/file_handling_numpy.py"
   ]
  },
  {
   "cell_type": "markdown",
   "metadata": {},
   "source": [
    "## 2.7 Exercises"
   ]
  },
  {
   "cell_type": "markdown",
   "metadata": {
    "collapsed": true
   },
   "source": [
    "* Exercise 2.1: Errors with colon, indent, etc.  \n",
    "* Exercise 2.2: Compare integers a and b  \n",
    "* Exercise 2.3: Functions for circumference and area of acircle  \n",
    "* Exercise 2.4: Function for area of arectangle  \n",
    "* Exercise 2.5: Area of apolygon  \n",
    "* Exercise 2.6: Average of integers  \n",
    "* Exercise 2.7: While loop with errors  \n",
    "* Exercise 2.8: Area of rectangle versus circle  \n",
    "* Exercise 2.9: Find crossing points of two graphs  \n",
    "* Exercise 2.10: Sort array with numbers  \n",
    "* Exercise 2.11: Compute  \n",
    "* Exercise 2.12: Compute combinations of sets  \n",
    "* Exercise 2.13: Frequency of random numbers  \n",
    "* Exercise 2.14: Game21  \n",
    "* Exercise 2.15: Linear interpolation  \n",
    "* Exercise 2.16: Test straight line requirement  \n",
    "* Exercise 2.17: Fit straight line to data  \n",
    "* Exercise 2.18: Fit sines to straightline  \n",
    "* Exercise 2.19: Count occurrences of a string in a string  "
   ]
  },
  {
   "cell_type": "code",
   "execution_count": null,
   "metadata": {
    "collapsed": true
   },
   "outputs": [],
   "source": []
  }
 ],
 "metadata": {
  "kernelspec": {
   "display_name": "Python 2",
   "language": "python",
   "name": "python2"
  },
  "language_info": {
   "codemirror_mode": {
    "name": "ipython",
    "version": 2
   },
   "file_extension": ".py",
   "mimetype": "text/x-python",
   "name": "python",
   "nbconvert_exporter": "python",
   "pygments_lexer": "ipython2",
   "version": "2.7.13"
  }
 },
 "nbformat": 4,
 "nbformat_minor": 1
}
