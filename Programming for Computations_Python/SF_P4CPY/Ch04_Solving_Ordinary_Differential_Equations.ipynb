{
 "cells": [
  {
   "cell_type": "markdown",
   "metadata": {},
   "source": [
    "# Ch04 Solving Ordinary Differential Equations"
   ]
  },
  {
   "cell_type": "code",
   "execution_count": 7,
   "metadata": {
    "collapsed": true
   },
   "outputs": [],
   "source": [
    "import sys\n",
    "sys.path.append(\"./py\")"
   ]
  },
  {
   "cell_type": "markdown",
   "metadata": {},
   "source": [
    "## 4.1 Population Growth"
   ]
  },
  {
   "cell_type": "markdown",
   "metadata": {},
   "source": [
    "### 4.1.1 Derivation of the Model"
   ]
  },
  {
   "cell_type": "markdown",
   "metadata": {},
   "source": [
    "### 4.1.2 Numerical Solution"
   ]
  },
  {
   "cell_type": "markdown",
   "metadata": {},
   "source": [
    "### 4.1.3 Programming the Forward Euler Scheme; the Special Case "
   ]
  },
  {
   "cell_type": "code",
   "execution_count": null,
   "metadata": {
    "collapsed": true
   },
   "outputs": [],
   "source": [
    "# %load py/growth1.py\n",
    "N_0 = input('Give initial population size N_0: ')\n",
    "r   = input('Give net growth rate r: ')\n",
    "dt  = input('Give time step size: ')\n",
    "N_t = input('Give number of steps: ')\n",
    "from numpy import linspace, zeros\n",
    "t = linspace(0, (N_t+1)*dt, N_t+2)\n",
    "N = zeros(N_t+2)\n",
    "\n",
    "N[0] = N_0\n",
    "for n in range(N_t+1):\n",
    "    N[n+1] = N[n] + r*dt*N[n]\n",
    "\n",
    "import matplotlib.pyplot as plt\n",
    "numerical_sol = 'bo' if N_t < 70 else 'b-'\n",
    "plt.plot(t, N, numerical_sol, t, N_0*exp(r*t), 'r-')\n",
    "plt.legend(['numerical', 'exact'], loc='upper left')\n",
    "plt.xlabel('t'); plt.ylabel('N(t)')\n",
    "filestem = 'growth1_%dsteps' % N_t\n",
    "plt.savefig('%s.png' % filestem); plt.savefig('%s.pdf' % filestem)\n"
   ]
  },
  {
   "cell_type": "markdown",
   "metadata": {},
   "source": [
    "### 4.1.4 Understanding the Forward Euler Method"
   ]
  },
  {
   "cell_type": "markdown",
   "metadata": {},
   "source": [
    "### 4.1.5 Programming the Forward Euler Scheme; the General Case "
   ]
  },
  {
   "cell_type": "code",
   "execution_count": null,
   "metadata": {
    "collapsed": true
   },
   "outputs": [],
   "source": [
    "# %load py/ode_FE.py\n",
    "from numpy import linspace, zeros, exp\n",
    "import matplotlib.pyplot as plt\n",
    "\n",
    "def ode_FE(f, U_0, dt, T):\n",
    "    N_t = int(round(float(T)/dt))\n",
    "    u = zeros(N_t+1)\n",
    "    t = linspace(0, N_t*dt, len(u))\n",
    "    u[0] = U_0\n",
    "    for n in range(N_t):\n",
    "        u[n+1] = u[n] + dt*f(u[n], t[n])\n",
    "    return u, t\n",
    "\n",
    "def demo_population_growth():\n",
    "    \"\"\"Test case: u'=r*u, u(0)=100.\"\"\"\n",
    "    def f(u, t):\n",
    "        return 0.1*u\n",
    "\n",
    "    u, t = ode_FE(f=f, U_0=100, dt=0.5, T=20)\n",
    "    plt.plot(t, u, t, 100*exp(0.1*t))\n",
    "    plt.show()\n",
    "\n",
    "if __name__ == '__main__':\n",
    "    demo_population_growth()\n"
   ]
  },
  {
   "cell_type": "markdown",
   "metadata": {},
   "source": [
    "### 4.1.6 Making the Population Growth Model More Realistic"
   ]
  },
  {
   "cell_type": "code",
   "execution_count": 8,
   "metadata": {
    "collapsed": true
   },
   "outputs": [],
   "source": [
    "# %load py/logistic.py\n",
    "from ode_FE import ode_FE\n",
    "import matplotlib.pyplot as plt\n",
    "\n",
    "for dt, T in zip((0.5, 20), (60, 100)):\n",
    "    u, t = ode_FE(f=lambda u, t: 0.1*(1 - u/500.)*u, \\\n",
    "                               U_0=100, dt=dt, T=T)\n",
    "    plt.figure()  # Make separate figures for each pass in the loop\n",
    "    plt.plot(t, u, 'b-')\n",
    "    plt.xlabel('t'); plt.ylabel('N(t)')\n",
    "    plt.savefig('tmp_%g.png' % dt); plt.savefig('tmp_%g.pdf' % dt)\n"
   ]
  },
  {
   "cell_type": "markdown",
   "metadata": {},
   "source": [
    "### 4.1.7 Verification: ExactLinear Solution of theDiscrete Equations"
   ]
  },
  {
   "cell_type": "code",
   "execution_count": 10,
   "metadata": {
    "collapsed": true
   },
   "outputs": [],
   "source": [
    "# %load py/test_ode_FE_exact_linear.py\n",
    "from ode_FE import ode_FE\n",
    "\n",
    "def test_ode_FE():\n",
    "    \"\"\"Test that a linear u(t)=a*t+b is exactly reproduced.\"\"\"\n",
    "\n",
    "    def exact_solution(t):\n",
    "        return a*t + b\n",
    "\n",
    "    def f(u, t):  # ODE\n",
    "        return a + (u - exact_solution(t))**m\n",
    "\n",
    "    a = 4\n",
    "    b = -1\n",
    "    m = 6\n",
    "\n",
    "    dt = 0.5\n",
    "    T = 20.0\n",
    "\n",
    "    u, t = ode_FE(f, exact_solution(0), dt, T)\n",
    "    diff = abs(exact_solution(t) - u).max()\n",
    "    tol = 1E-15           # Tolerance for float comparison\n",
    "    success = diff < tol\n",
    "    assert success\n",
    "\n",
    "test_ode_FE()\n"
   ]
  },
  {
   "cell_type": "markdown",
   "metadata": {},
   "source": [
    "## 4.2 Spreading of Diseases"
   ]
  },
  {
   "cell_type": "markdown",
   "metadata": {},
   "source": [
    "### 4.2.1 Spreading of a Flu"
   ]
  },
  {
   "cell_type": "markdown",
   "metadata": {},
   "source": [
    "### 4.2.2 A Forward Euler Method for the Differential Equation System"
   ]
  },
  {
   "cell_type": "markdown",
   "metadata": {},
   "source": [
    "### 4.2.3 Programming the Numerical Method; the Special Case"
   ]
  },
  {
   "cell_type": "code",
   "execution_count": null,
   "metadata": {
    "collapsed": true
   },
   "outputs": [],
   "source": [
    "# %load py/SIR2.py\n",
    "\"\"\"As the basic SIR1.py, but including loss of immunity.\"\"\"\n",
    "\n",
    "from numpy import zeros, linspace\n",
    "import matplotlib.pyplot as plt\n",
    "\n",
    "# Time unit: 1 h\n",
    "beta = 10./(40*8*24)\n",
    "beta /= 4            # Reduce beta compared to SIR1.py\n",
    "print 'beta:', beta\n",
    "gamma = 3./(15*24)\n",
    "dt = 0.1             # 6 min\n",
    "D = 300              # Simulate for D days\n",
    "N_t = int(D*24/dt)   # Corresponding no of hours\n",
    "nu = 1./(24*90)      # Average loss of immunity: 50 days\n",
    "\n",
    "t = linspace(0, N_t*dt, N_t+1)\n",
    "S = zeros(N_t+1)\n",
    "I = zeros(N_t+1)\n",
    "R = zeros(N_t+1)\n",
    "\n",
    "# Initial condition\n",
    "S[0] = 50\n",
    "I[0] = 1\n",
    "R[0] = 0\n",
    "\n",
    "# Step equations forward in time\n",
    "for n in range(N_t):\n",
    "    S[n+1] = S[n] - dt*beta*S[n]*I[n] + dt*nu*R[n]\n",
    "    I[n+1] = I[n] + dt*beta*S[n]*I[n] - dt*gamma*I[n]\n",
    "    R[n+1] = R[n] + dt*gamma*I[n] - dt*nu*R[n]\n",
    "\n",
    "fig = plt.figure()\n",
    "l1, l2, l3 = plt.plot(t, S, t, I, t, R)\n",
    "fig.legend((l1, l2, l3), ('S', 'I', 'R'), 'upper left')\n",
    "plt.xlabel('hours')\n",
    "plt.show()\n",
    "plt.savefig('tmp.pdf'); plt.savefig('tmp.png')\n"
   ]
  },
  {
   "cell_type": "markdown",
   "metadata": {},
   "source": [
    "### 4.2.4 Outbreak or Not"
   ]
  },
  {
   "cell_type": "markdown",
   "metadata": {},
   "source": [
    "### 4.2.5 Abstract Problem and Notation"
   ]
  },
  {
   "cell_type": "markdown",
   "metadata": {},
   "source": [
    "### 4.2.6 Programming the Numerical Method; the General Case"
   ]
  },
  {
   "cell_type": "code",
   "execution_count": null,
   "metadata": {
    "collapsed": true
   },
   "outputs": [],
   "source": [
    "# %load py/ode_system_FE.py\n",
    "from numpy import linspace, zeros, asarray\n",
    "import matplotlib.pyplot as plt\n",
    "\n",
    "def ode_FE(f, U_0, dt, T):\n",
    "    N_t = int(round(float(T)/dt))\n",
    "    # Ensure that any list/tuple returned from f_ is wrapped as array\n",
    "    f_ = lambda u, t: asarray(f(u, t))\n",
    "    u = zeros((N_t+1, len(U_0)))\n",
    "    t = linspace(0, N_t*dt, len(u))\n",
    "    u[0] = U_0\n",
    "    for n in range(N_t):\n",
    "        u[n+1] = u[n] + dt*f_(u[n], t[n])\n",
    "    return u, t\n",
    "\n",
    "def demo_SIR():\n",
    "    \"\"\"Test case using a SIR model.\"\"\"\n",
    "    def f(u, t):\n",
    "        S, I, R = u\n",
    "        return [-beta*S*I, beta*S*I - gamma*I, gamma*I]\n",
    "\n",
    "    beta = 10./(40*8*24)\n",
    "    gamma = 3./(15*24)\n",
    "    dt = 0.1             # 6 min\n",
    "    D = 30               # Simulate for D days\n",
    "    N_t = int(D*24/dt)   # Corresponding no of hours\n",
    "    T = dt*N_t           # End time\n",
    "    U_0 = [50, 1, 0]\n",
    "\n",
    "    u, t = ode_FE(f, U_0, dt, T)\n",
    "\n",
    "    S = u[:,0]\n",
    "    I = u[:,1]\n",
    "    R = u[:,2]\n",
    "    fig = plt.figure()\n",
    "    l1, l2, l3 = plt.plot(t, S, t, I, t, R)\n",
    "    fig.legend((l1, l2, l3), ('S', 'I', 'R'), 'lower right')\n",
    "    plt.xlabel('hours')\n",
    "    plt.show()\n",
    "\n",
    "    # Consistency check:\n",
    "    N = S[0] + I[0] + R[0]\n",
    "    eps = 1E-12  # Tolerance for comparing real numbers\n",
    "    for n in range(len(S)):\n",
    "        success = abs(S[n] + I[n] + R[n] - N) < eps\n",
    "        assert success\n",
    "\n",
    "if __name__ == '__main__':\n",
    "    demo_SIR()\n"
   ]
  },
  {
   "cell_type": "markdown",
   "metadata": {},
   "source": [
    "### 4.2.7 Time-Restricted Immunity"
   ]
  },
  {
   "cell_type": "code",
   "execution_count": null,
   "metadata": {
    "collapsed": true
   },
   "outputs": [],
   "source": [
    "for n in range(N_t):\n",
    "    S[n+1] = S[n] - dt*beta*S[n]*I[n] + dt*nu*R[n]\n",
    "    I[n+1] = I[n] + dt*beta*S[n]*I[n] - dt*gamma*I[n]\n",
    "    R[n+1] = R[n] + dt*gamma*I[n] - dt*nu*R[n]"
   ]
  },
  {
   "cell_type": "markdown",
   "metadata": {},
   "source": [
    "### 4.2.8 Incorporating Vaccination"
   ]
  },
  {
   "cell_type": "markdown",
   "metadata": {},
   "source": [
    "### 4.2.9 Discontinuous Coefficients: A Vaccination Campaign"
   ]
  },
  {
   "cell_type": "code",
   "execution_count": null,
   "metadata": {
    "collapsed": true
   },
   "outputs": [],
   "source": [
    "def p(t):\n",
    "    return 0.005 if (6*24 <= t <= 15*24) else 0"
   ]
  },
  {
   "cell_type": "code",
   "execution_count": null,
   "metadata": {
    "collapsed": true
   },
   "outputs": [],
   "source": [
    "p = zeros(N_t+1)\n",
    "start_index = 6*24/dt\n",
    "stop_index = 15*24/dt\n",
    "p[start_index: stop_index] = 0.005"
   ]
  },
  {
   "cell_type": "markdown",
   "metadata": {},
   "source": [
    "## 4.3 Oscillating One-Dimensional Systems"
   ]
  },
  {
   "cell_type": "markdown",
   "metadata": {},
   "source": [
    "### 4.3.1 Derivation of a Simple Model"
   ]
  },
  {
   "cell_type": "markdown",
   "metadata": {},
   "source": [
    "### 4.3.2 Numerical Solution"
   ]
  },
  {
   "cell_type": "markdown",
   "metadata": {},
   "source": [
    "### 4.3.3 Programming the Numerical Method; the Special Case"
   ]
  },
  {
   "cell_type": "code",
   "execution_count": null,
   "metadata": {
    "collapsed": true
   },
   "outputs": [],
   "source": [
    "# %load py/osc_EC.py\n",
    "from numpy import zeros, linspace, pi, cos\n",
    "import matplotlib.pyplot as plt\n",
    "\n",
    "omega = 2\n",
    "P = 2*pi/omega\n",
    "dt = P/20\n",
    "T = 40*P\n",
    "T = P\n",
    "N_t = int(round(T/dt))\n",
    "t = linspace(0, N_t*dt, N_t+1)\n",
    "print 'N_t:', N_t\n",
    "\n",
    "u = zeros(N_t+1)\n",
    "v = zeros(N_t+1)\n",
    "\n",
    "# Initial condition\n",
    "X_0 = 2\n",
    "u[0] = X_0\n",
    "v[0] = 0\n",
    "\n",
    "# Step equations forward in time\n",
    "for n in range(N_t):\n",
    "    v[n+1] = v[n] - dt*omega**2*u[n]\n",
    "    u[n+1] = u[n] + dt*v[n+1]\n",
    "\n",
    "# Plot the last four periods to illustrate the accuracy\n",
    "# in long time simulations\n",
    "N4l = int(round(4*P/dt))  # No of intervals to be plotted\n",
    "fig = plt.figure()\n",
    "l1, l2 = plt.plot(t[-N4l:], u[-N4l:], 'b-',\n",
    "                  t[-N4l:], X_0*cos(omega*t)[-N4l:], 'r--')\n",
    "fig.legend((l1, l2), ('numerical', 'exact'), 'upper left')\n",
    "plt.xlabel('t')\n",
    "plt.show()\n",
    "plt.savefig('tmp.pdf'); plt.savefig('tmp.png')\n",
    "print '%.16f %.16f' % (u[-1], v[-1])\n"
   ]
  },
  {
   "cell_type": "markdown",
   "metadata": {},
   "source": [
    "### 4.3.4 A Magic Fix of the Numerical Metho"
   ]
  },
  {
   "cell_type": "markdown",
   "metadata": {},
   "source": [
    "### 4.3.5 The 2nd-Order Runge-Kutta Method (or Heun’s Method)"
   ]
  },
  {
   "cell_type": "markdown",
   "metadata": {},
   "source": [
    "### 4.3.6 Software for Solving ODEs"
   ]
  },
  {
   "cell_type": "code",
   "execution_count": null,
   "metadata": {
    "collapsed": true
   },
   "outputs": [],
   "source": [
    "%load py/osc_odespy.py"
   ]
  },
  {
   "cell_type": "markdown",
   "metadata": {},
   "source": [
    "### 4.3.7 The 4th-Order Runge-Kutta Method"
   ]
  },
  {
   "cell_type": "markdown",
   "metadata": {},
   "source": [
    "### 4.3.8 More Effects: Damping, Nonlinearity, and External Forces"
   ]
  },
  {
   "cell_type": "code",
   "execution_count": null,
   "metadata": {
    "collapsed": true
   },
   "outputs": [],
   "source": [
    "# %load py/osc_EC_general.py\n",
    "from matplotlib.pyplot import plot, hold, legend, \\\n",
    "     xlabel, ylabel, savefig, title, figure, show\n",
    "\n",
    "def EulerCromer(f, s, F, m, T, U_0, V_0, dt):\n",
    "    from numpy import zeros, linspace\n",
    "    N_t = int(round(T/dt))\n",
    "    print 'N_t:', N_t\n",
    "    t = linspace(0, N_t*dt, N_t+1)\n",
    "\n",
    "    u = zeros(N_t+1)\n",
    "    v = zeros(N_t+1)\n",
    "\n",
    "    # Initial condition\n",
    "    u[0] = U_0\n",
    "    v[0] = V_0\n",
    "\n",
    "    # Step equations forward in time\n",
    "    for n in range(N_t):\n",
    "        v[n+1] = v[n] + dt*(1./m)*(F(t[n]) - f(v[n]) - s(u[n]))\n",
    "        u[n+1] = u[n] + dt*v[n+1]\n",
    "    return u, v, t\n",
    "\n",
    "def test_undamped_linear():\n",
    "    \"\"\"Compare with data from osc_EC.py in a linear problem.\"\"\"\n",
    "    from numpy import pi\n",
    "    omega = 2\n",
    "    P = 2*pi/omega\n",
    "    dt = P/20\n",
    "    T = 40*P\n",
    "    exact_v = -3.5035725322034139\n",
    "    exact_u = 0.7283057044967003\n",
    "    computed_u, computed_v, t = EulerCromer(\n",
    "        f=lambda v: 0, s=lambda u: omega**2*u,\n",
    "        F=lambda t: 0, m=1, T=T, U_0=2, V_0=0, dt=dt)\n",
    "    diff_u = abs(exact_u - computed_u[-1])\n",
    "    diff_v = abs(exact_v - computed_v[-1])\n",
    "    tol = 1E-14\n",
    "    assert diff_u < tol and diff_v < tol\n",
    "\n",
    "def _test_manufactured_solution(damping=True):\n",
    "    import sympy as sp\n",
    "    t, m, k, b = sp.symbols('t m k b')\n",
    "    # Choose solution\n",
    "    u = sp.sin(t)\n",
    "    v = sp.diff(u, t)\n",
    "    # Choose f, s, F\n",
    "    f = b*v\n",
    "    s = k*sp.tanh(u)\n",
    "    F = sp.cos(2*t)\n",
    "\n",
    "    equation = m*sp.diff(v, t) + f + s - F\n",
    "\n",
    "    # Adjust F (source term because of manufactured solution)\n",
    "    F += equation\n",
    "    print 'F:', F\n",
    "\n",
    "    # Set values for the symbols m, b, k\n",
    "    m = 0.5\n",
    "    k = 1.5\n",
    "    b = 0.5 if damping else 0\n",
    "    F = F.subs('m', m).subs('b', b).subs('k', k)\n",
    "\n",
    "    print f, s, F\n",
    "    # Turn sympy expression into Python function\n",
    "    F = sp.lambdify([t], F)\n",
    "    # Define Python functions for f and s\n",
    "    # (the expressions above are functions of t, we need\n",
    "    # s(u) and f(v)\n",
    "    from numpy import tanh\n",
    "    s = lambda u: k*tanh(u)\n",
    "    f = lambda v: b*v\n",
    "\n",
    "    # Add modules='numpy' such that exact u and v work\n",
    "    # with t as array argument\n",
    "    exact_u = sp.lambdify([t], u, modules='numpy')\n",
    "    exact_v = sp.lambdify([t], v, modules='numpy')\n",
    "\n",
    "\n",
    "    # Solve problem for different dt\n",
    "    from numpy import pi, sqrt, sum, log\n",
    "    P = 2*pi\n",
    "    time_intervals_per_period = [20, 40, 80, 160, 240]\n",
    "    h   = []  # store discretization parameters\n",
    "    E_u = []  # store errors in u\n",
    "    E_v = []  # store errors in v\n",
    "\n",
    "    for n in time_intervals_per_period:\n",
    "        dt = P/n\n",
    "        T = 8*P\n",
    "        computed_u, computed_v, t = EulerCromer(\n",
    "            f=f, s=s, F=F, m=m, T=T,\n",
    "            U_0=exact_u(0), V_0=exact_v(0), dt=dt)\n",
    "\n",
    "        error_u = sqrt(dt*sum((exact_u(t) - computed_u)**2))\n",
    "        error_v = sqrt(dt*sum((exact_v(t) - computed_v)**2))\n",
    "        h.append(dt)\n",
    "        E_u.append(error_u)\n",
    "        E_v.append(error_v)\n",
    "\n",
    "        \"\"\"\n",
    "        # Compare exact and computed curves for this resolution\n",
    "        figure()\n",
    "        plot_u(computed_u, t, show=False)\n",
    "        hold('on')\n",
    "        plot(t, exact_u(t), show=True)\n",
    "        legend(['numerical', 'exact'])\n",
    "        savefig('tmp_%d.pdf' % n); savefig('tmp_%d.png' % n)\n",
    "        \"\"\"\n",
    "    # Compute convergence rates\n",
    "    r_u = [log(E_u[i]/E_u[i-1])/log(h[i]/h[i-1])\n",
    "           for i in range(1, len(h))]\n",
    "    r_v = [log(E_u[i]/E_u[i-1])/log(h[i]/h[i-1])\n",
    "           for i in range(1, len(h))]\n",
    "    tol = 0.02\n",
    "    exact_r_u = 1.0 if damping else 2.0\n",
    "    exact_r_v = 1.0 if damping else 2.0\n",
    "    success = abs(exact_r_u - r_u[-1]) < tol and \\\n",
    "              abs(exact_r_v - r_v[-1]) < tol\n",
    "    msg = ' u rate: %.2f, v rate: %.2f' % (r_u[-1], r_v[-1])\n",
    "    assert success, msg\n",
    "\n",
    "def test_manufactured_solution():\n",
    "    _test_manufactured_solution(damping=True)\n",
    "    _test_manufactured_solution(damping=False)\n",
    "\n",
    "# Plot the a percentage of the time series, up to the end, to\n",
    "# illustrate the accuracy in long time simulations\n",
    "def plot_u(u, t, percentage=100, show=True, heading='', labels=('t', 'u')):\n",
    "    index = len(u)*percentage/100.\n",
    "    plot(t[-index:], u[-index:], 'b-', show=show)\n",
    "    xlabel(labels[0]);  ylabel(labels[1])\n",
    "    title(heading)\n",
    "    savefig('tmp.pdf'); savefig('tmp.png')\n",
    "    if show:\n",
    "        show()\n",
    "\n",
    "def linear_damping():\n",
    "    b = 0.3\n",
    "    f = lambda v: b*v\n",
    "    s = lambda u: k*u\n",
    "    F = lambda t: 0\n",
    "\n",
    "    m = 1\n",
    "    k = 1\n",
    "    U_0 = 1\n",
    "    V_0 = 0\n",
    "\n",
    "    T = 12*pi\n",
    "    dt = T/5000.\n",
    "\n",
    "    u, v, t = EulerCromer(f=f, s=s, F=F, m=m, T=T,\n",
    "                          U_0=U_0, V_0=V_0, dt=dt)\n",
    "    plot_u(u, t)\n",
    "\n",
    "def linear_damping_sine_excitation():\n",
    "    b = 0.3\n",
    "    f = lambda v: b*v\n",
    "    s = lambda u: k*u\n",
    "    from math import pi, sin\n",
    "    w = 1\n",
    "    A = 0.5\n",
    "    F = lambda t: A*sin(w*t)\n",
    "\n",
    "    m = 1\n",
    "    k = 1\n",
    "    U_0 = 1\n",
    "    V_0 = 0\n",
    "\n",
    "    T = 12*pi\n",
    "    dt = T/5000.\n",
    "\n",
    "    u, v, t = EulerCromer(f=f, s=s, F=F, m=m, T=T,\n",
    "                          U_0=U_0, V_0=V_0, dt=dt)\n",
    "    plot_u(u, t)\n",
    "\n",
    "def sliding_friction():\n",
    "    from numpy import tanh, sign\n",
    "\n",
    "    f = lambda v: mu*m*g*sign(v)\n",
    "    alpha = 60.0\n",
    "    s = lambda u: k/alpha*tanh(alpha*u)\n",
    "    s = lambda u: k*u\n",
    "    F = lambda t: 0\n",
    "\n",
    "    g = 9.81\n",
    "    mu = 0.4\n",
    "    m = 1\n",
    "    k = 1000\n",
    "\n",
    "    U_0 = 0.1\n",
    "    V_0 = 0\n",
    "\n",
    "    T = 2\n",
    "    dt = T/5000.\n",
    "\n",
    "    u, v, t = EulerCromer(f=f, s=s, F=F, m=m, T=T,\n",
    "                          U_0=U_0, V_0=V_0, dt=dt)\n",
    "    plot_u(u, t)\n",
    "\n",
    "if __name__ == '__main__':\n",
    "    test_undamped_linear()\n",
    "    test_manufactured_solution()\n",
    "    #sliding_friction()\n",
    "    linear_damping_sine_excitation()\n"
   ]
  },
  {
   "cell_type": "markdown",
   "metadata": {},
   "source": [
    "### 4.3.9 Illustration of Linear Damping"
   ]
  },
  {
   "cell_type": "code",
   "execution_count": null,
   "metadata": {
    "collapsed": true
   },
   "outputs": [],
   "source": [
    "def linear_damping():\n",
    "    b = 0.3\n",
    "    f = lambda v: b*v\n",
    "    s = lambda u: k*u\n",
    "    F = lambda t: 0\n",
    "    m = 1\n",
    "    k = 1\n",
    "    U_0 = 1\n",
    "    V_0 = 0\n",
    "    T = 12*pi\n",
    "    dt = T/5000.\n",
    "    u, v, t = EulerCromer(f=f, s=s, F=F, m=m, T=T,\n",
    "                          U_0=U_0, V_0=V_0, dt=dt)\n",
    "    plot_u(u, t)"
   ]
  },
  {
   "cell_type": "markdown",
   "metadata": {},
   "source": [
    "### 4.3.10 Illustration of Linear Damping with Sinusoidal Excitation"
   ]
  },
  {
   "cell_type": "markdown",
   "metadata": {},
   "source": [
    "### 4.3.11 Spring-Mass System with Sliding Friction"
   ]
  },
  {
   "cell_type": "code",
   "execution_count": null,
   "metadata": {
    "collapsed": true
   },
   "outputs": [],
   "source": [
    "def sliding_friction():\n",
    "    from numpy import tanh, sign\n",
    "    f = lambda v: mu*m*g*sign(v)\n",
    "    alpha = 60.0\n",
    "    s = lambda u: k/alpha*tanh(alpha*u)\n",
    "    F = lambda t: 0\n",
    "    g = 9.81\n",
    "    mu = 0.4\n",
    "    m = 1\n",
    "    k = 1000\n",
    "    U_0 = 0.1\n",
    "    V_0 = 0\n",
    "    T = 2\n",
    "    dt = T/5000.\n",
    "    u, v, t = EulerCromer(f=f, s=s, F=F, m=m, T=T,\n",
    "                          U_0=U_0, V_0=V_0, dt=dt)\n",
    "    plot_u(u, t)"
   ]
  },
  {
   "cell_type": "markdown",
   "metadata": {},
   "source": [
    "### 4.3.12 A finite Difference Method; Undamped, Linear Case"
   ]
  },
  {
   "cell_type": "code",
   "execution_count": null,
   "metadata": {
    "collapsed": true
   },
   "outputs": [],
   "source": [
    "# %load py/osc_2nd_order.py\n",
    "from numpy import zeros, linspace\n",
    "\n",
    "def osc_2nd_order(U_0, omega, dt, T):\n",
    "    \"\"\"\n",
    "    Solve u'' + omega**2*u = 0 for t in (0,T], u(0)=U_0 and u'(0)=0,\n",
    "    by a central finite difference method with time step dt.\n",
    "    \"\"\"\n",
    "    dt = float(dt)\n",
    "    Nt = int(round(T/dt))\n",
    "    u = zeros(Nt+1)\n",
    "    t = linspace(0, Nt*dt, Nt+1)\n",
    "\n",
    "    u[0] = U_0\n",
    "    u[1] = u[0] - 0.5*dt**2*omega**2*u[0]\n",
    "    for n in range(1, Nt):\n",
    "        u[n+1] = 2*u[n] - u[n-1] - dt**2*omega**2*u[n]\n",
    "    return u, t\n"
   ]
  },
  {
   "cell_type": "markdown",
   "metadata": {},
   "source": [
    "### 4.3.13 A Finite Difference Method; Linear Damping"
   ]
  },
  {
   "cell_type": "markdown",
   "metadata": {},
   "source": [
    "## 4.4 Exercises"
   ]
  },
  {
   "cell_type": "markdown",
   "metadata": {
    "collapsed": true
   },
   "source": [
    "* Exercise 4.1: Geometric construction of the Forward Euler method  \n",
    "* Exercise 4.2: Maketest functions for the Forward Euler method  \n",
    "* Exercise 4.3: Implement and evaluate Heun'smethod  \n",
    "* Exercise 4.4: Find an appropriate time step; logistic model  \n",
    "* Exercise 4.5: Find an appropriate time step; SIR model  \n",
    "* Exercise 4.6: Model an adaptiv evaccination campaign  \n",
    "* Exercise 4.7: Makea SIRV model with time-limited effect of vaccination  \n",
    "* Exercise 4.8: Refactor a flat program  \n",
    "* Exercise 4.9: Simulate oscillations by a general ODEsolver  \n",
    "* Exercise 4.10: Compute the energy in oscillations  \n",
    "* Exercise 4.11: Use a Backward Euler scheme for population growth  \n",
    "* Exercise 4.12: Use a Crank-Nicolson scheme for population growth  \n",
    "* Exercise 4.13: Und erstandfinitedifferencesviaTaylorseries  \n",
    "* Exercise 4.14: Use a Backward Euler scheme for oscillations  \n",
    "* Exercise 4.15: Use Heun's method for the SIR model  \n",
    "* Exercise 4.16: Use Odes.py to solve a simpleODE  \n",
    "* Exercise 4.17: Setup a Backward Euler scheme for oscillations  \n",
    "* Exercise 4.18: Setup a Forward Euler scheme for nonlinear and damped  \n",
    "* Exercise 4.19: Discretize an initial condition  "
   ]
  },
  {
   "cell_type": "code",
   "execution_count": null,
   "metadata": {
    "collapsed": true
   },
   "outputs": [],
   "source": []
  }
 ],
 "metadata": {
  "kernelspec": {
   "display_name": "Python 2",
   "language": "python",
   "name": "python2"
  },
  "language_info": {
   "codemirror_mode": {
    "name": "ipython",
    "version": 2
   },
   "file_extension": ".py",
   "mimetype": "text/x-python",
   "name": "python",
   "nbconvert_exporter": "python",
   "pygments_lexer": "ipython2",
   "version": "2.7.13"
  }
 },
 "nbformat": 4,
 "nbformat_minor": 1
}
